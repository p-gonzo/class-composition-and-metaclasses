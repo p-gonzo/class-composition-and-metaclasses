{
 "cells": [
  {
   "cell_type": "code",
   "execution_count": 1,
   "metadata": {},
   "outputs": [
    {
     "ename": "NameError",
     "evalue": "name 'JsonObject' is not defined",
     "output_type": "error",
     "traceback": [
      "\u001b[0;31m---------------------------------------------------------------------------\u001b[0m",
      "\u001b[0;31mNameError\u001b[0m                                 Traceback (most recent call last)",
      "\u001b[0;32m<ipython-input-1-4ff24c197807>\u001b[0m in \u001b[0;36m<module>\u001b[0;34m\u001b[0m\n\u001b[0;32m----> 1\u001b[0;31m building = JsonObject({\n\u001b[0m\u001b[1;32m      2\u001b[0m     \u001b[0;31m# this is a JSON Schema\u001b[0m\u001b[0;34m\u001b[0m\u001b[0;34m\u001b[0m\u001b[0m\n\u001b[1;32m      3\u001b[0m     \u001b[0;34m'type'\u001b[0m\u001b[0;34m:\u001b[0m \u001b[0;34m'object'\u001b[0m\u001b[0;34m,\u001b[0m\u001b[0;34m\u001b[0m\u001b[0m\n\u001b[1;32m      4\u001b[0m     'properties': {\n\u001b[1;32m      5\u001b[0m         \u001b[0;34m'sq_ft'\u001b[0m\u001b[0;34m:\u001b[0m \u001b[0;34m'number'\u001b[0m\u001b[0;34m,\u001b[0m\u001b[0;34m\u001b[0m\u001b[0m\n",
      "\u001b[0;31mNameError\u001b[0m: name 'JsonObject' is not defined"
     ]
    }
   ],
   "source": [
    "building = JsonObject({\n",
    "    # this is a JSON Schema\n",
    "    'type': 'object',\n",
    "    'properties': {\n",
    "        'sq_ft': 'number',\n",
    "        'num_stories': 'number',\n",
    "        'first_floor': {\n",
    "            'type': 'object',\n",
    "            'properties': {\n",
    "                'num_windows': 'number',\n",
    "        },\n",
    "        'floors': {\n",
    "            'type': 'array',\n",
    "            'items' : {\n",
    "                'type': 'object',\n",
    "                'properties': {\n",
    "                    'num_windows': 'number',\n",
    "                }\n",
    "            }\n",
    "        }\n",
    "    },\n",
    "    'additionalProperties': False,\n",
    "}})\n",
    "def test_raises_on_missing_property():\n",
    "    try:\n",
    "        building.sqft # note the misspelling\n",
    "        assert False, \"Should have raised an error on inalid property access\"\n",
    "    except:\n",
    "        pass # good, we should raise\n",
    "\n",
    "def test_good_properties_work():\n",
    "    sq_ft = building.sq_ft\n",
    "    assert sq_ft._json_type == 'number'\n",
    "\n",
    "    \n",
    "\n",
    "def test_nested_objects_are_objects():\n",
    "    assert isinstance(building.first_floor, JsonObject)\n",
    "\n",
    "def test_arrays_cant_access_unknown_properties():\n",
    "    floors = building.floors\n",
    "    try:\n",
    "        floors.num_windows\n",
    "        assert False, \"Should have raised an error: Array has no property num_windows\"\n",
    "    except:\n",
    "        pass # good."
   ]
  },
  {
   "cell_type": "code",
   "execution_count": null,
   "metadata": {},
   "outputs": [],
   "source": []
  }
 ],
 "metadata": {
  "kernelspec": {
   "display_name": "class-composition-and-metaclasses",
   "language": "python",
   "name": "class-composition-and-metaclasses"
  },
  "language_info": {
   "codemirror_mode": {
    "name": "ipython",
    "version": 3
   },
   "file_extension": ".py",
   "mimetype": "text/x-python",
   "name": "python",
   "nbconvert_exporter": "python",
   "pygments_lexer": "ipython3",
   "version": "3.6.5"
  }
 },
 "nbformat": 4,
 "nbformat_minor": 2
}
