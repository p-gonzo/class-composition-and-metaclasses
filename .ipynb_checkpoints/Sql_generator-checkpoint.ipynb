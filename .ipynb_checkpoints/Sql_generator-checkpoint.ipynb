{
 "cells": [
  {
   "cell_type": "code",
   "execution_count": 634,
   "metadata": {},
   "outputs": [
    {
     "data": {
      "text/plain": [
       "'\\nSELECT * FROM my_table\\nWHERE (x + col1) > col2\\n'"
      ]
     },
     "execution_count": 634,
     "metadata": {},
     "output_type": "execute_result"
    }
   ],
   "source": [
    "#prefix operators\n",
    "#infix operators\n",
    "\n",
    "class SqlExpression:\n",
    "    def __init__(self, operator, *operands):\n",
    "        self.operator = operator\n",
    "        self.operands = operands\n",
    "    \n",
    "    @classmethod\n",
    "    def BuildAtomicExpression(cls, opr, lhs, hrs):\n",
    "        return SqlVariable(cls(opr, lhs, hrs).to_sql())\n",
    "\n",
    "    def to_sql(self):\n",
    "        \n",
    "        left = SqlVariable(self.operands[0]) if type(self.operands[0]) != SqlVariable else self.operands[0]\n",
    "        right = SqlVariable(self.operands[1]) if type(self.operands[1]) != SqlVariable else self.operands[1]\n",
    "        \n",
    "        if self.operator != 'POWER':\n",
    "            return f\"({' '.join(map(str, (left.to_sql(), self.operator, right.to_sql())))})\"\n",
    "        else:\n",
    "            return f\"{self.operator}( {left.to_sql()}, {right.to_sql()} )\"\n",
    "            \n",
    "\n",
    "class SqlVariable:\n",
    "    def __init__(self, name):\n",
    "        self.name = name\n",
    "        \n",
    "    #Comparison\n",
    "    def __lt__(self, rhs):\n",
    "        return SqlExpression.BuildAtomicExpression('<', self, rhs)\n",
    "    \n",
    "    def __le__(self, rhs):\n",
    "        return SqlExpression.BuildAtomicExpression('<=', self, rhs)\n",
    "    \n",
    "    def __eq__(self, rhs):\n",
    "        return SqlExpression.BuildAtomicExpression('=', self, rhs)\n",
    "    \n",
    "    def __ne__(self, rhs):\n",
    "        return SqlExpression.BuildAtomicExpression('!=', self, rhs)\n",
    "    \n",
    "    def __gt__(self, rhs):\n",
    "        return SqlExpression.BuildAtomicExpression('>', self, rhs)\n",
    "    \n",
    "    def __ge__(self, rhs):\n",
    "        return SqlExpression.BuildAtomicExpression('<=', self, rhs)\n",
    "    \n",
    "    #binary arithmetic operations\n",
    "    def __add__(self, rhs):\n",
    "        return SqlExpression.BuildAtomicExpression('+', self, rhs)\n",
    "    \n",
    "    def __sub__(self, rhs):\n",
    "        return SqlExpression.BuildAtomicExpression('-', self, rhs)\n",
    "    \n",
    "    def __mul__(self, rhs):\n",
    "        return SqlExpression.BuildAtomicExpression('*', self, rhs)\n",
    "    \n",
    "    def __truediv__(self, rhs):\n",
    "        return SqlExpression.BuildAtomicExpression('/', self, rhs)\n",
    "    \n",
    "    def __mod__(self, rhs):\n",
    "        return SqlExpression.BuildAtomicExpression('%', self, rhs)\n",
    "    \n",
    "    def __pow__(self, rhs):\n",
    "        return SqlExpression.BuildAtomicExpression('POWER', self, rhs)\n",
    "    \n",
    "    #reflected binary arithmetic operations\n",
    "    def __radd__(self, lhs):\n",
    "        return SqlExpression.BuildAtomicExpression('+', lhs, self)\n",
    "    \n",
    "    def __rsub__(self, lhs):\n",
    "        return SqlExpression.BuildAtomicExpression('-', lhs, self)\n",
    "    \n",
    "    def __rmul__(self, lhs):\n",
    "        return SqlExpression.BuildAtomicExpression('*', lhs, self)\n",
    "    \n",
    "    def __rtruediv__(self, lhs):\n",
    "        return SqlExpression.BuildAtomicExpression('/', lhs, self)\n",
    "    \n",
    "    def __rmod__(self, lhs):\n",
    "        return SqlExpression.BuildAtomicExpression('%', lhs, self)\n",
    "    \n",
    "    def __rpow__(self, lhs):\n",
    "        return SqlExpression.BuildAtomicExpression('POWER', lhs, self)\n",
    "    \n",
    "    def __getattr__(self, attr):\n",
    "        return SqlVariable(f\"{self.name}->'{attr}'\")\n",
    "    \n",
    "    def to_sql(self):\n",
    "        return self.name\n",
    "\n",
    "def test_sql_equality_expression():\n",
    "    #x is an instance of a class\n",
    "    expr = (X == 3).to_sql()\n",
    "    assert expr == '(x = 3)'\n",
    "\n",
    "def test_sql_gt():\n",
    "    expr = (X > 15).to_sql()\n",
    "    assert expr == '(x > 15)'\n",
    "\n",
    "def test_sql_multiplication():\n",
    "    expr = ((X * 2) > 12).to_sql()\n",
    "    assert expr == '((x * 2) > 12)'\n",
    "\n",
    "def test_sql_json_property_access():\n",
    "    expr = (X.country == 'Argentina').to_sql()\n",
    "    assert expr == \"x->'country' = 'Argentina'\"\n",
    "\n",
    "def test_nested_property_access():\n",
    "    expr = (X.country.capitol == 'Bueños Aires').to_sql()\n",
    "    assert expr == \"x->'country'->'capitol' = 'Bueños Aires'\"\n",
    "\n",
    "def test_compare_on_property_access():\n",
    "    expr = (X.num_windows > 5).to_sql()\n",
    "    assert expr == \"(x->'num_windows' > 5)\"\n",
    "\n",
    "def test_combines_with_other_vars():\n",
    "    col1 = SqlVariable('col1')\n",
    "    col2 = SqlVariable('col2')\n",
    "    expr = ((X + col1) > col2).to_sql()\n",
    "    assert expr == '(x + col1) > col2'\n",
    "\"\"\"\n",
    "SELECT * FROM my_table\n",
    "WHERE (x + col1) > col2\n",
    "\"\"\"\n",
    "    "
   ]
  },
  {
   "cell_type": "code",
   "execution_count": 635,
   "metadata": {},
   "outputs": [],
   "source": [
    "col1 = SqlVariable('col1')"
   ]
  },
  {
   "cell_type": "code",
   "execution_count": 636,
   "metadata": {},
   "outputs": [],
   "source": [
    "col2 = SqlVariable('col2')"
   ]
  },
  {
   "cell_type": "code",
   "execution_count": 637,
   "metadata": {},
   "outputs": [],
   "source": [
    "X = SqlVariable('x')"
   ]
  },
  {
   "cell_type": "code",
   "execution_count": 638,
   "metadata": {},
   "outputs": [
    {
     "data": {
      "text/plain": [
       "<__main__.SqlExpression at 0x106b2ef28>"
      ]
     },
     "execution_count": 638,
     "metadata": {},
     "output_type": "execute_result"
    }
   ],
   "source": [
    "((X + 'col1') > 'col2').to_sql()"
   ]
  },
  {
   "cell_type": "code",
   "execution_count": 614,
   "metadata": {},
   "outputs": [
    {
     "data": {
      "text/plain": [
       "'((x + col1) > col2)'"
      ]
     },
     "execution_count": 614,
     "metadata": {},
     "output_type": "execute_result"
    }
   ],
   "source": [
    "(X + col1 > col2).to_sql()"
   ]
  },
  {
   "cell_type": "code",
   "execution_count": 615,
   "metadata": {},
   "outputs": [
    {
     "data": {
      "text/plain": [
       "'col1'"
      ]
     },
     "execution_count": 615,
     "metadata": {},
     "output_type": "execute_result"
    }
   ],
   "source": [
    "col1.to_sql()"
   ]
  },
  {
   "cell_type": "code",
   "execution_count": 616,
   "metadata": {},
   "outputs": [
    {
     "data": {
      "text/plain": [
       "<__main__.SqlVariable at 0x106b6aac8>"
      ]
     },
     "execution_count": 616,
     "metadata": {},
     "output_type": "execute_result"
    }
   ],
   "source": [
    "(col1 + 5)"
   ]
  },
  {
   "cell_type": "code",
   "execution_count": 618,
   "metadata": {},
   "outputs": [
    {
     "data": {
      "text/plain": [
       "'(((col1 + 5) + 6) + 7)'"
      ]
     },
     "execution_count": 618,
     "metadata": {},
     "output_type": "execute_result"
    }
   ],
   "source": [
    "(col1 + 5 + 6 + 7).to_sql()"
   ]
  },
  {
   "cell_type": "code",
   "execution_count": 619,
   "metadata": {},
   "outputs": [
    {
     "data": {
      "text/plain": [
       "'((x * x) > x)'"
      ]
     },
     "execution_count": 619,
     "metadata": {},
     "output_type": "execute_result"
    }
   ],
   "source": [
    "((X * X) > X).to_sql()"
   ]
  },
  {
   "cell_type": "code",
   "execution_count": 620,
   "metadata": {},
   "outputs": [
    {
     "data": {
      "text/plain": [
       "'(x = 3)'"
      ]
     },
     "execution_count": 620,
     "metadata": {},
     "output_type": "execute_result"
    }
   ],
   "source": [
    "(X == 3).to_sql()"
   ]
  },
  {
   "cell_type": "code",
   "execution_count": 621,
   "metadata": {},
   "outputs": [
    {
     "data": {
      "text/plain": [
       "'(x > 3)'"
      ]
     },
     "execution_count": 621,
     "metadata": {},
     "output_type": "execute_result"
    }
   ],
   "source": [
    "(X > 3).to_sql()"
   ]
  },
  {
   "cell_type": "code",
   "execution_count": 622,
   "metadata": {},
   "outputs": [
    {
     "data": {
      "text/plain": [
       "'x'"
      ]
     },
     "execution_count": 622,
     "metadata": {},
     "output_type": "execute_result"
    }
   ],
   "source": [
    "X.to_sql()"
   ]
  },
  {
   "cell_type": "code",
   "execution_count": 623,
   "metadata": {},
   "outputs": [
    {
     "data": {
      "text/plain": [
       "'(x < 3)'"
      ]
     },
     "execution_count": 623,
     "metadata": {},
     "output_type": "execute_result"
    }
   ],
   "source": [
    "(3> X).to_sql()"
   ]
  },
  {
   "cell_type": "code",
   "execution_count": 624,
   "metadata": {},
   "outputs": [
    {
     "data": {
      "text/plain": [
       "'((x * 5) + (3 + x))'"
      ]
     },
     "execution_count": 624,
     "metadata": {},
     "output_type": "execute_result"
    }
   ],
   "source": [
    "((X *5) + (3 + X)).to_sql()"
   ]
  },
  {
   "cell_type": "code",
   "execution_count": 625,
   "metadata": {},
   "outputs": [
    {
     "data": {
      "text/plain": [
       "'(((x * 5) + 3) + x)'"
      ]
     },
     "execution_count": 625,
     "metadata": {},
     "output_type": "execute_result"
    }
   ],
   "source": [
    "(X * 5 + 3 + X).to_sql()"
   ]
  },
  {
   "cell_type": "code",
   "execution_count": 626,
   "metadata": {},
   "outputs": [
    {
     "data": {
      "text/plain": [
       "'((x * 5) + (3 / x))'"
      ]
     },
     "execution_count": 626,
     "metadata": {},
     "output_type": "execute_result"
    }
   ],
   "source": [
    "(X * 5 + 3 / X).to_sql()"
   ]
  },
  {
   "cell_type": "code",
   "execution_count": 627,
   "metadata": {},
   "outputs": [
    {
     "data": {
      "text/plain": [
       "'(POWER( x, 2 ) + 3)'"
      ]
     },
     "execution_count": 627,
     "metadata": {},
     "output_type": "execute_result"
    }
   ],
   "source": [
    "(X ** 2 + 3).to_sql()"
   ]
  },
  {
   "cell_type": "code",
   "execution_count": 628,
   "metadata": {},
   "outputs": [
    {
     "data": {
      "text/plain": [
       "\"(x->'country' = Argentina)\""
      ]
     },
     "execution_count": 628,
     "metadata": {},
     "output_type": "execute_result"
    }
   ],
   "source": [
    "(X.country == 'Argentina').to_sql()"
   ]
  },
  {
   "cell_type": "code",
   "execution_count": 629,
   "metadata": {},
   "outputs": [
    {
     "data": {
      "text/plain": [
       "\"(x->'num_windows' > 5)\""
      ]
     },
     "execution_count": 629,
     "metadata": {},
     "output_type": "execute_result"
    }
   ],
   "source": [
    "(X.num_windows > 5).to_sql()"
   ]
  },
  {
   "cell_type": "code",
   "execution_count": 630,
   "metadata": {},
   "outputs": [
    {
     "data": {
      "text/plain": [
       "\"(x->'country'->'capitol' = Bueños Aires)\""
      ]
     },
     "execution_count": 630,
     "metadata": {},
     "output_type": "execute_result"
    }
   ],
   "source": [
    "(X.country.capitol == 'Bueños Aires').to_sql()"
   ]
  },
  {
   "cell_type": "code",
   "execution_count": 631,
   "metadata": {},
   "outputs": [
    {
     "data": {
      "text/plain": [
       "\"(((x->'hospital'->'num_windows' / 100) + 150) > 1000)\""
      ]
     },
     "execution_count": 631,
     "metadata": {},
     "output_type": "execute_result"
    }
   ],
   "source": [
    "(X.hospital.num_windows / 100 + 150 > 1000).to_sql()"
   ]
  },
  {
   "cell_type": "code",
   "execution_count": null,
   "metadata": {},
   "outputs": [],
   "source": []
  }
 ],
 "metadata": {
  "kernelspec": {
   "display_name": "class-composition-and-metaclasses",
   "language": "python",
   "name": "class-composition-and-metaclasses"
  },
  "language_info": {
   "codemirror_mode": {
    "name": "ipython",
    "version": 3
   },
   "file_extension": ".py",
   "mimetype": "text/x-python",
   "name": "python",
   "nbconvert_exporter": "python",
   "pygments_lexer": "ipython3",
   "version": "3.6.5"
  }
 },
 "nbformat": 4,
 "nbformat_minor": 2
}
