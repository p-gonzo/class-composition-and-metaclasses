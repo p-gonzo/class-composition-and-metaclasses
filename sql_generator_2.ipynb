{
 "cells": [
  {
   "cell_type": "code",
   "execution_count": 1,
   "metadata": {},
   "outputs": [],
   "source": [
    "class SqlValue:\n",
    "    def __init__(self, value):\n",
    "        self.value = value\n",
    "    def to_sql(self):\n",
    "        return self.value\n",
    "    \n",
    "    #binary arithmetic operations\n",
    "    def __add__(self, rhs):\n",
    "        if (type(rhs) == int):\n",
    "            rhs = SqlInt(rhs)\n",
    "        return SqlAdd(self, rhs)\n",
    "    \n",
    "    def __eq__(self, rhs):\n",
    "        if (type(rhs) == int):\n",
    "            rhs = SqlInt(rhs)\n",
    "        if (type(rhs) == bool):\n",
    "            rhs = SqlBool(rhs)\n",
    "        return SqlCheckEquality(self, rhs) \n",
    "    \n",
    "    def __gt__(self, rhs):\n",
    "        if (type(rhs) == int):\n",
    "            rhs = SqlInt(rhs)\n",
    "        if (type(rhs) == bool):\n",
    "            rhs = SqlBool(rhs)\n",
    "        return SqlCheckGreaterThan(self, rhs)\n",
    "    \n",
    "    def __rgt__(self, lhs):\n",
    "        if (type(lhs) == int):\n",
    "            lhs = SqlInt(lhs)\n",
    "        if (type(lhs) == bool):\n",
    "            lhs = SqlBool(lhs)\n",
    "        return SqlCheckGreaterThan(lhs, self)"
   ]
  },
  {
   "cell_type": "code",
   "execution_count": 2,
   "metadata": {},
   "outputs": [],
   "source": [
    "class SqlInt(SqlValue):\n",
    "    def __init__(self, value):\n",
    "        super().__init__(value)\n",
    "        self.sql_type = 'int'"
   ]
  },
  {
   "cell_type": "code",
   "execution_count": 3,
   "metadata": {},
   "outputs": [],
   "source": [
    "class SqlBool(SqlValue):\n",
    "    def __init__(self, value):\n",
    "        super().__init__(value)\n",
    "        self.sql_type = 'bool'"
   ]
  },
  {
   "cell_type": "code",
   "execution_count": 4,
   "metadata": {},
   "outputs": [],
   "source": [
    "class SqlString(SqlValue):\n",
    "    def __init__(self, value):\n",
    "        super().__init__(value)\n",
    "        self.sql_type = 'str'"
   ]
  },
  {
   "cell_type": "code",
   "execution_count": 5,
   "metadata": {},
   "outputs": [],
   "source": [
    "class SqlTimestamp(SqlValue):\n",
    "    def __init__(self, value):\n",
    "        super().__init__(value)\n",
    "        self.sql_type = 'timestamp'"
   ]
  },
  {
   "cell_type": "code",
   "execution_count": 6,
   "metadata": {},
   "outputs": [],
   "source": [
    "class SqlFloat(SqlValue):\n",
    "    def __init__(self, value):\n",
    "        super().__init__(value)\n",
    "        self.sql_type = 'float'"
   ]
  },
  {
   "cell_type": "code",
   "execution_count": 7,
   "metadata": {},
   "outputs": [],
   "source": [
    "class SqlJSONObj(SqlValue):\n",
    "    def __init__(self, value):\n",
    "        super().__init__(value)\n",
    "        self.sql_type = 'JSONobj'"
   ]
  },
  {
   "cell_type": "code",
   "execution_count": 8,
   "metadata": {},
   "outputs": [],
   "source": [
    "class SqlJSONArray(SqlValue):\n",
    "    def __init__(self, value):\n",
    "        super().__init__(value)\n",
    "        self.sql_type = 'JSONarray'"
   ]
  },
  {
   "cell_type": "code",
   "execution_count": 9,
   "metadata": {},
   "outputs": [],
   "source": [
    "class SqlJSONNumber(SqlValue):\n",
    "    def __init__(self, value):\n",
    "        super().__init__(value)\n",
    "        self.sql_type = 'JSONnumber'"
   ]
  },
  {
   "cell_type": "code",
   "execution_count": 10,
   "metadata": {},
   "outputs": [],
   "source": [
    "class SqlJSONString(SqlValue):\n",
    "    def __init__(self, value):\n",
    "        super().__init__(value)\n",
    "        self.sql_type = 'JSONstring'"
   ]
  },
  {
   "cell_type": "code",
   "execution_count": 11,
   "metadata": {},
   "outputs": [],
   "source": [
    "class SqlJSONbool(SqlValue):\n",
    "    def __init__(self, value):\n",
    "        super().__init__(value)\n",
    "        self.sql_type = 'JSONbool'"
   ]
  },
  {
   "cell_type": "code",
   "execution_count": 12,
   "metadata": {},
   "outputs": [],
   "source": [
    "class SqlExpression():\n",
    "    def __init__(self, types, return_type, *operands):\n",
    "        self.operands = list(operands)\n",
    "        if len(types) != len(operands):\n",
    "            print('err: Types array must be the same length as the number of operands')\n",
    "            return\n",
    "        \n",
    "        \n",
    "        for idx, operand in enumerate(self.operands):\n",
    "            if not isinstance(operand, self.types[idx]):\n",
    "                # Raise error\n",
    "                \n",
    "            if isinstance(operand, SqlExpression):\n",
    "                if operand.return_type != self.types[idx]:\n",
    "                    print(f\"err: the opperand '{operand.to_sql()}' must be of return type {self.types[idx]} it is of return type {operand.return_type}\")\n",
    "                    self.operands[idx] = InvalidSqlExpression(operand)\n",
    "                \n",
    "            else:\n",
    "                if not isinstance(operand, self.types[idx]):\n",
    "                    print(f\"err: the opperand '{operand.to_sql()}' must be of type {self.types[idx]} it is of type {type(operand)}\")\n",
    "                    continue\n",
    "        \n",
    "        "
   ]
  },
  {
   "cell_type": "code",
   "execution_count": 13,
   "metadata": {},
   "outputs": [],
   "source": [
    "class InvalidSqlExpression():\n",
    "    def __init__(self, expression):\n",
    "        self.expression = expression\n",
    "        \n",
    "    def to_sql(self):\n",
    "        return f\"([INVALID SQL: {self.expression.to_sql()})\""
   ]
  },
  {
   "cell_type": "code",
   "execution_count": 14,
   "metadata": {},
   "outputs": [],
   "source": [
    "class SqlAdd(SqlExpression, SqlInt):\n",
    "    \n",
    "    def __init__(self, lhs, rhs):\n",
    "        self.types = [SqlInt, SqlInt]\n",
    "        self.return_type = SqlInt\n",
    "        self.lhs = lhs\n",
    "        self.rhs = rhs\n",
    "        \n",
    "        super().__init__(self.types, self.return_type, self.lhs, self.rhs)\n",
    "        \n",
    "        self.lhs = self.operands[0]\n",
    "        self.rhs = self.operands[1]\n",
    "                \n",
    "    def to_sql(self):\n",
    "        return f\"({self.lhs.to_sql()} + {self.rhs.to_sql()})\""
   ]
  },
  {
   "cell_type": "code",
   "execution_count": 15,
   "metadata": {},
   "outputs": [],
   "source": [
    "class SqlCheckGreaterThan(SqlExpression, SqlInt):\n",
    "    def __init__(self, lhs, rhs):\n",
    "        self.types = [SqlInt, SqlInt]\n",
    "        self.return_type = SqlBool\n",
    "        self.lhs = lhs\n",
    "        self.rhs = rhs\n",
    "        \n",
    "        super().__init__(self.types, self.return_type, self.lhs, self.rhs)\n",
    "        \n",
    "        self.lhs = self.operands[0]\n",
    "        self.rhs = self.operands[1]\n",
    "        \n",
    "    def to_sql(self):\n",
    "        return f\"({self.lhs.to_sql()} > {self.rhs.to_sql()})\""
   ]
  },
  {
   "cell_type": "code",
   "execution_count": 16,
   "metadata": {},
   "outputs": [],
   "source": [
    "class SqlCheckEquality(SqlExpression, SqlInt):\n",
    "    def __init__(self, lhs, rhs):\n",
    "        self.types = []\n",
    "        self.return_type = SqlBool\n",
    "        self.lhs = lhs\n",
    "        self.rhs = rhs\n",
    "        \n",
    "        if (isinstance(lhs, SqlExpression)):\n",
    "            self.types.append(lhs.return_type)\n",
    "        else:\n",
    "            self.types.append(type(lhs))\n",
    "            \n",
    "        if (isinstance(rhs, SqlExpression)):\n",
    "            self.types.append(rhs.return_type)\n",
    "        else:\n",
    "            self.types.append(type(rhs))\n",
    "            \n",
    "            \n",
    "        if self.types[0] != self.types[1]:\n",
    "            print(\"Err: Cannont compute equality of unlike types:\")\n",
    "            print(self.types)\n",
    "            return\n",
    "        \n",
    "        \n",
    "        super().__init__(self.types, self.return_type, self.lhs, self.rhs)\n",
    "        \n",
    "        self.lhs = self.operands[0]\n",
    "        self.rhs = self.operands[1]\n",
    "        \n",
    "    def to_sql(self):\n",
    "        return f\"({self.lhs.to_sql()} == {self.rhs.to_sql()})\""
   ]
  },
  {
   "cell_type": "code",
   "execution_count": 17,
   "metadata": {},
   "outputs": [],
   "source": [
    "x = SqlInt('x')\n",
    "y = SqlInt('y')\n",
    "z = SqlInt('z')"
   ]
  },
  {
   "cell_type": "code",
   "execution_count": 18,
   "metadata": {},
   "outputs": [],
   "source": [
    "exp1 = (x + y + z)"
   ]
  },
  {
   "cell_type": "code",
   "execution_count": 19,
   "metadata": {},
   "outputs": [
    {
     "data": {
      "text/plain": [
       "'((x + y) + z)'"
      ]
     },
     "execution_count": 19,
     "metadata": {},
     "output_type": "execute_result"
    }
   ],
   "source": [
    "exp1.to_sql()"
   ]
  },
  {
   "cell_type": "code",
   "execution_count": 20,
   "metadata": {},
   "outputs": [
    {
     "data": {
      "text/plain": [
       "__main__.SqlInt"
      ]
     },
     "execution_count": 20,
     "metadata": {},
     "output_type": "execute_result"
    }
   ],
   "source": [
    "exp1.return_type"
   ]
  },
  {
   "cell_type": "code",
   "execution_count": 21,
   "metadata": {},
   "outputs": [],
   "source": [
    "exp2 = (x + y > z)"
   ]
  },
  {
   "cell_type": "code",
   "execution_count": 22,
   "metadata": {},
   "outputs": [
    {
     "data": {
      "text/plain": [
       "'((x + y) > z)'"
      ]
     },
     "execution_count": 22,
     "metadata": {},
     "output_type": "execute_result"
    }
   ],
   "source": [
    "exp2.to_sql()"
   ]
  },
  {
   "cell_type": "code",
   "execution_count": 23,
   "metadata": {},
   "outputs": [
    {
     "data": {
      "text/plain": [
       "__main__.SqlBool"
      ]
     },
     "execution_count": 23,
     "metadata": {},
     "output_type": "execute_result"
    }
   ],
   "source": [
    "exp2.return_type"
   ]
  },
  {
   "cell_type": "code",
   "execution_count": 24,
   "metadata": {},
   "outputs": [
    {
     "name": "stdout",
     "output_type": "stream",
     "text": [
      "err: the opperand '(x > y)' must be of return type <class '__main__.SqlInt'> it is of return type <class '__main__.SqlBool'>\n"
     ]
    }
   ],
   "source": [
    "exp3 = ((x > y) > z)"
   ]
  },
  {
   "cell_type": "code",
   "execution_count": 35,
   "metadata": {},
   "outputs": [
    {
     "data": {
      "text/plain": [
       "True"
      ]
     },
     "execution_count": 35,
     "metadata": {},
     "output_type": "execute_result"
    }
   ],
   "source": [
    "isinstance(exp2, SqlInt)"
   ]
  },
  {
   "cell_type": "code",
   "execution_count": 25,
   "metadata": {},
   "outputs": [
    {
     "data": {
      "text/plain": [
       "'(([INVALID SQL: (x > y)) > z)'"
      ]
     },
     "execution_count": 25,
     "metadata": {},
     "output_type": "execute_result"
    }
   ],
   "source": [
    "exp3.to_sql()"
   ]
  },
  {
   "cell_type": "code",
   "execution_count": 26,
   "metadata": {},
   "outputs": [
    {
     "name": "stdout",
     "output_type": "stream",
     "text": [
      "err: the opperand '(x > y)' must be of return type <class '__main__.SqlInt'> it is of return type <class '__main__.SqlBool'>\n",
      "err: the opperand 'asdf' must be of type <class '__main__.SqlInt'> it is of type <class '__main__.SqlString'>\n"
     ]
    }
   ],
   "source": [
    "exp3 = ((x > y) > SqlString('asdf'))"
   ]
  },
  {
   "cell_type": "code",
   "execution_count": 27,
   "metadata": {},
   "outputs": [
    {
     "data": {
      "text/plain": [
       "__main__.SqlCheckGreaterThan"
      ]
     },
     "execution_count": 27,
     "metadata": {},
     "output_type": "execute_result"
    }
   ],
   "source": [
    "type(exp3)"
   ]
  },
  {
   "cell_type": "code",
   "execution_count": 28,
   "metadata": {},
   "outputs": [],
   "source": [
    "expA = exp3 == exp3"
   ]
  },
  {
   "cell_type": "code",
   "execution_count": 29,
   "metadata": {},
   "outputs": [
    {
     "data": {
      "text/plain": [
       "'((([INVALID SQL: (x > y)) > asdf) == (([INVALID SQL: (x > y)) > asdf))'"
      ]
     },
     "execution_count": 29,
     "metadata": {},
     "output_type": "execute_result"
    }
   ],
   "source": [
    "expA.to_sql()"
   ]
  },
  {
   "cell_type": "code",
   "execution_count": 30,
   "metadata": {},
   "outputs": [
    {
     "data": {
      "text/plain": [
       "'(x == x)'"
      ]
     },
     "execution_count": 30,
     "metadata": {},
     "output_type": "execute_result"
    }
   ],
   "source": [
    "(x == x).to_sql()"
   ]
  },
  {
   "cell_type": "code",
   "execution_count": 31,
   "metadata": {},
   "outputs": [
    {
     "name": "stdout",
     "output_type": "stream",
     "text": [
      "Err: Cannont compute equality of unlike types:\n",
      "[<class '__main__.SqlInt'>, <class '__main__.SqlString'>]\n"
     ]
    },
    {
     "data": {
      "text/plain": [
       "'(x == asdf)'"
      ]
     },
     "execution_count": 31,
     "metadata": {},
     "output_type": "execute_result"
    }
   ],
   "source": [
    "(x == SqlString('asdf')).to_sql()"
   ]
  },
  {
   "cell_type": "code",
   "execution_count": null,
   "metadata": {},
   "outputs": [],
   "source": []
  }
 ],
 "metadata": {
  "kernelspec": {
   "display_name": "class-composition-and-metaclasses",
   "language": "python",
   "name": "class-composition-and-metaclasses"
  },
  "language_info": {
   "codemirror_mode": {
    "name": "ipython",
    "version": 3
   },
   "file_extension": ".py",
   "mimetype": "text/x-python",
   "name": "python",
   "nbconvert_exporter": "python",
   "pygments_lexer": "ipython3",
   "version": "3.6.5"
  }
 },
 "nbformat": 4,
 "nbformat_minor": 2
}
