{
 "cells": [
  {
   "cell_type": "code",
   "execution_count": 667,
   "metadata": {},
   "outputs": [
    {
     "data": {
      "text/plain": [
       "'\\nSELECT * FROM my_table\\nWHERE (x + col1) > col2\\n'"
      ]
     },
     "execution_count": 667,
     "metadata": {},
     "output_type": "execute_result"
    }
   ],
   "source": [
    "#prefix operators\n",
    "#infix operators\n",
    "\n",
    "class SqlExpression:\n",
    "    def __init__(self, operator, *operands):\n",
    "        self.operator = operator\n",
    "        self.operands = operands\n",
    "    \n",
    "    @classmethod\n",
    "    def BuildAtomicExpression(cls, opr, lhs, hrs):\n",
    "        return SqlVariable(cls(opr, lhs, hrs).to_sql())\n",
    "\n",
    "    def to_sql(self):\n",
    "        \n",
    "        left = SqlVariable(self.operands[0]) if type(self.operands[0]) != SqlVariable else self.operands[0]\n",
    "        right = SqlVariable(self.operands[1]) if type(self.operands[1]) != SqlVariable else self.operands[1]\n",
    "        \n",
    "        if self.operator != 'POWER':\n",
    "            return f\"({' '.join(map(str, (left.to_sql(), self.operator, right.to_sql())))})\"\n",
    "        else:\n",
    "            return f\"{self.operator}( {left.to_sql()}, {right.to_sql()} )\"\n",
    "            \n",
    "\n",
    "class SqlVariable:\n",
    "    def __init__(self, name):\n",
    "        self.name = name\n",
    "        \n",
    "    #Comparison\n",
    "    def __lt__(self, rhs):\n",
    "        return SqlExpression.BuildAtomicExpression('<', self, rhs)\n",
    "    \n",
    "    def __le__(self, rhs):\n",
    "        return SqlExpression.BuildAtomicExpression('<=', self, rhs)\n",
    "    \n",
    "    def __eq__(self, rhs):\n",
    "        return SqlExpression.BuildAtomicExpression('=', self, rhs)\n",
    "    \n",
    "    def __ne__(self, rhs):\n",
    "        return SqlExpression.BuildAtomicExpression('!=', self, rhs)\n",
    "    \n",
    "    def __gt__(self, rhs):\n",
    "        return SqlExpression.BuildAtomicExpression('>', self, rhs)\n",
    "    \n",
    "    def __ge__(self, rhs):\n",
    "        return SqlExpression.BuildAtomicExpression('<=', self, rhs)\n",
    "    \n",
    "    #binary arithmetic operations\n",
    "    def __add__(self, rhs):\n",
    "        return SqlExpression.BuildAtomicExpression('+', self, rhs)\n",
    "    \n",
    "    def __sub__(self, rhs):\n",
    "        return SqlExpression.BuildAtomicExpression('-', self, rhs)\n",
    "    \n",
    "    def __mul__(self, rhs):\n",
    "        return SqlExpression.BuildAtomicExpression('*', self, rhs)\n",
    "    \n",
    "    def __truediv__(self, rhs):\n",
    "        return SqlExpression.BuildAtomicExpression('/', self, rhs)\n",
    "    \n",
    "    def __mod__(self, rhs):\n",
    "        return SqlExpression.BuildAtomicExpression('%', self, rhs)\n",
    "    \n",
    "    def __pow__(self, rhs):\n",
    "        return SqlExpression.BuildAtomicExpression('POWER', self, rhs)\n",
    "    \n",
    "    #reflected binary arithmetic operations\n",
    "    def __radd__(self, lhs):\n",
    "        return SqlExpression.BuildAtomicExpression('+', lhs, self)\n",
    "    \n",
    "    def __rsub__(self, lhs):\n",
    "        return SqlExpression.BuildAtomicExpression('-', lhs, self)\n",
    "    \n",
    "    def __rmul__(self, lhs):\n",
    "        return SqlExpression.BuildAtomicExpression('*', lhs, self)\n",
    "    \n",
    "    def __rtruediv__(self, lhs):\n",
    "        return SqlExpression.BuildAtomicExpression('/', lhs, self)\n",
    "    \n",
    "    def __rmod__(self, lhs):\n",
    "        return SqlExpression.BuildAtomicExpression('%', lhs, self)\n",
    "    \n",
    "    def __rpow__(self, lhs):\n",
    "        return SqlExpression.BuildAtomicExpression('POWER', lhs, self)\n",
    "    \n",
    "    def __getattr__(self, attr):\n",
    "        return SqlVariable(f\"{self.name}->'{attr}'\")\n",
    "    \n",
    "    def to_sql(self):\n",
    "        return self.name    \n",
    "\n",
    "def test_sql_equality_expression():\n",
    "    #x is an instance of a class\n",
    "    expr = (X == 3).to_sql()\n",
    "    assert expr == '(x = 3)'\n",
    "\n",
    "def test_sql_gt():\n",
    "    expr = (X > 15).to_sql()\n",
    "    assert expr == '(x > 15)'\n",
    "\n",
    "def test_sql_multiplication():\n",
    "    expr = ((X * 2) > 12).to_sql()\n",
    "    assert expr == '((x * 2) > 12)'\n",
    "\n",
    "def test_sql_json_property_access():\n",
    "    expr = (X.country == 'Argentina').to_sql()\n",
    "    assert expr == \"x->'country' = 'Argentina'\"\n",
    "\n",
    "def test_nested_property_access():\n",
    "    expr = (X.country.capitol == 'Bueños Aires').to_sql()\n",
    "    assert expr == \"x->'country'->'capitol' = 'Bueños Aires'\"\n",
    "\n",
    "def test_compare_on_property_access():\n",
    "    expr = (X.num_windows > 5).to_sql()\n",
    "    assert expr == \"(x->'num_windows' > 5)\"\n",
    "\n",
    "def test_combines_with_other_vars():\n",
    "    col1 = SqlVariable('col1')\n",
    "    col2 = SqlVariable('col2')\n",
    "    expr = ((X + col1) > col2).to_sql()\n",
    "    assert expr == '(x + col1) > col2'\n",
    "    \n",
    "def test_type_errors_are_caught():\n",
    "    name_col = SqlVariable('name') # TODO: need some way to specify type of column\n",
    "    num_floors = SqlVariable('num_floors') # TODO: need some way to speciy ...\n",
    "    \n",
    "    try:\n",
    "        name_col * num_floors\n",
    "        assert False, \"Expected to throw because can't multiply string by number\"\n",
    "    except:\n",
    "        pass # good.\n",
    "\n",
    "def test_user_defined_functions():\n",
    "    class Lower(SqlFunction):\n",
    "        # Lower accepts a single operand (because only one entry in the types list) of type SqlString\n",
    "        types = [SqlString]\n",
    "        return_type = SqlString\n",
    "        \n",
    "        def to_sql(operand):\n",
    "            # TODO \n",
    "            return 'lower({})'.format(operand)\n",
    "        # TODO: how to let user define\n",
    "    \n",
    "    name_col = SqlVariable('name')\n",
    "    expr = Lower(name_col).to_sql()\n",
    "    assert expr == 'lower(name)'\n",
    "    \n",
    "    try:\n",
    "        expr + 5\n",
    "        assert False\n",
    "    except:\n",
    "        pass # Should raise an error because Lower() returns a String, which can't\n",
    "        # be added to a number\n",
    "\"\"\"\n",
    "SELECT * FROM my_table\n",
    "WHERE (x + col1) > col2\n",
    "\"\"\"\n",
    "    "
   ]
  },
  {
   "cell_type": "code",
   "execution_count": 668,
   "metadata": {},
   "outputs": [],
   "source": [
    "col1 = SqlVariable('col1')"
   ]
  },
  {
   "cell_type": "code",
   "execution_count": 669,
   "metadata": {},
   "outputs": [],
   "source": [
    "col2 = SqlVariable('col2')"
   ]
  },
  {
   "cell_type": "code",
   "execution_count": 670,
   "metadata": {},
   "outputs": [],
   "source": [
    "X = SqlVariable('x')"
   ]
  },
  {
   "cell_type": "code",
   "execution_count": 671,
   "metadata": {},
   "outputs": [
    {
     "data": {
      "text/plain": [
       "'((x + col1) > col2)'"
      ]
     },
     "execution_count": 671,
     "metadata": {},
     "output_type": "execute_result"
    }
   ],
   "source": [
    "((X + 'col1') > 'col2').to_sql()"
   ]
  },
  {
   "cell_type": "code",
   "execution_count": 672,
   "metadata": {},
   "outputs": [
    {
     "data": {
      "text/plain": [
       "'((x + col1) > col2)'"
      ]
     },
     "execution_count": 672,
     "metadata": {},
     "output_type": "execute_result"
    }
   ],
   "source": [
    "(X + col1 > col2).to_sql()"
   ]
  },
  {
   "cell_type": "code",
   "execution_count": 673,
   "metadata": {},
   "outputs": [
    {
     "data": {
      "text/plain": [
       "'col1'"
      ]
     },
     "execution_count": 673,
     "metadata": {},
     "output_type": "execute_result"
    }
   ],
   "source": [
    "col1.to_sql()"
   ]
  },
  {
   "cell_type": "code",
   "execution_count": 674,
   "metadata": {},
   "outputs": [
    {
     "data": {
      "text/plain": [
       "<__main__.SqlVariable at 0x1071116d8>"
      ]
     },
     "execution_count": 674,
     "metadata": {},
     "output_type": "execute_result"
    }
   ],
   "source": [
    "(col1 + 5)"
   ]
  },
  {
   "cell_type": "code",
   "execution_count": 675,
   "metadata": {},
   "outputs": [
    {
     "data": {
      "text/plain": [
       "'(((col1 + 5) + 6) + 7)'"
      ]
     },
     "execution_count": 675,
     "metadata": {},
     "output_type": "execute_result"
    }
   ],
   "source": [
    "(col1 + 5 + 6 + 7).to_sql()"
   ]
  },
  {
   "cell_type": "code",
   "execution_count": 676,
   "metadata": {},
   "outputs": [
    {
     "data": {
      "text/plain": [
       "'((x * x) > x)'"
      ]
     },
     "execution_count": 676,
     "metadata": {},
     "output_type": "execute_result"
    }
   ],
   "source": [
    "((X * X) > X).to_sql()"
   ]
  },
  {
   "cell_type": "code",
   "execution_count": 677,
   "metadata": {},
   "outputs": [
    {
     "data": {
      "text/plain": [
       "'(x = 3)'"
      ]
     },
     "execution_count": 677,
     "metadata": {},
     "output_type": "execute_result"
    }
   ],
   "source": [
    "(X == 3).to_sql()"
   ]
  },
  {
   "cell_type": "code",
   "execution_count": 678,
   "metadata": {},
   "outputs": [
    {
     "data": {
      "text/plain": [
       "'(x > 3)'"
      ]
     },
     "execution_count": 678,
     "metadata": {},
     "output_type": "execute_result"
    }
   ],
   "source": [
    "(X > 3).to_sql()"
   ]
  },
  {
   "cell_type": "code",
   "execution_count": 679,
   "metadata": {},
   "outputs": [
    {
     "data": {
      "text/plain": [
       "'x'"
      ]
     },
     "execution_count": 679,
     "metadata": {},
     "output_type": "execute_result"
    }
   ],
   "source": [
    "X.to_sql()"
   ]
  },
  {
   "cell_type": "code",
   "execution_count": 680,
   "metadata": {},
   "outputs": [
    {
     "data": {
      "text/plain": [
       "'(x < 3)'"
      ]
     },
     "execution_count": 680,
     "metadata": {},
     "output_type": "execute_result"
    }
   ],
   "source": [
    "(3> X).to_sql()"
   ]
  },
  {
   "cell_type": "code",
   "execution_count": 681,
   "metadata": {},
   "outputs": [
    {
     "data": {
      "text/plain": [
       "'((x * 5) + (3 + x))'"
      ]
     },
     "execution_count": 681,
     "metadata": {},
     "output_type": "execute_result"
    }
   ],
   "source": [
    "((X *5) + (3 + X)).to_sql()"
   ]
  },
  {
   "cell_type": "code",
   "execution_count": 682,
   "metadata": {},
   "outputs": [
    {
     "data": {
      "text/plain": [
       "'(((x * 5) + 3) + x)'"
      ]
     },
     "execution_count": 682,
     "metadata": {},
     "output_type": "execute_result"
    }
   ],
   "source": [
    "(X * 5 + 3 + X).to_sql()"
   ]
  },
  {
   "cell_type": "code",
   "execution_count": 683,
   "metadata": {},
   "outputs": [
    {
     "data": {
      "text/plain": [
       "'((x * 5) + (3 / x))'"
      ]
     },
     "execution_count": 683,
     "metadata": {},
     "output_type": "execute_result"
    }
   ],
   "source": [
    "(X * 5 + 3 / X).to_sql()"
   ]
  },
  {
   "cell_type": "code",
   "execution_count": 684,
   "metadata": {},
   "outputs": [
    {
     "data": {
      "text/plain": [
       "'(POWER( x, 2 ) + 3)'"
      ]
     },
     "execution_count": 684,
     "metadata": {},
     "output_type": "execute_result"
    }
   ],
   "source": [
    "(X ** 2 + 3).to_sql()"
   ]
  },
  {
   "cell_type": "code",
   "execution_count": 685,
   "metadata": {},
   "outputs": [
    {
     "data": {
      "text/plain": [
       "\"(x->'country' = Argentina)\""
      ]
     },
     "execution_count": 685,
     "metadata": {},
     "output_type": "execute_result"
    }
   ],
   "source": [
    "(X.country == 'Argentina').to_sql()"
   ]
  },
  {
   "cell_type": "code",
   "execution_count": 686,
   "metadata": {},
   "outputs": [
    {
     "data": {
      "text/plain": [
       "\"(x->'num_windows' > 5)\""
      ]
     },
     "execution_count": 686,
     "metadata": {},
     "output_type": "execute_result"
    }
   ],
   "source": [
    "(X.num_windows > 5).to_sql()"
   ]
  },
  {
   "cell_type": "code",
   "execution_count": 687,
   "metadata": {},
   "outputs": [
    {
     "data": {
      "text/plain": [
       "\"(x->'country'->'capitol' = Bueños Aires)\""
      ]
     },
     "execution_count": 687,
     "metadata": {},
     "output_type": "execute_result"
    }
   ],
   "source": [
    "(X.country.capitol == 'Bueños Aires').to_sql()"
   ]
  },
  {
   "cell_type": "code",
   "execution_count": 688,
   "metadata": {},
   "outputs": [
    {
     "data": {
      "text/plain": [
       "\"(((x->'hospital'->'num_windows' / 100) + 150) > 1000)\""
      ]
     },
     "execution_count": 688,
     "metadata": {},
     "output_type": "execute_result"
    }
   ],
   "source": [
    "(X.hospital.num_windows / 100 + 150 > 1000).to_sql()"
   ]
  },
  {
   "cell_type": "code",
   "execution_count": null,
   "metadata": {},
   "outputs": [],
   "source": []
  },
  {
   "cell_type": "code",
   "execution_count": null,
   "metadata": {},
   "outputs": [],
   "source": []
  }
 ],
 "metadata": {
  "kernelspec": {
   "display_name": "class-composition-and-metaclasses",
   "language": "python",
   "name": "class-composition-and-metaclasses"
  },
  "language_info": {
   "codemirror_mode": {
    "name": "ipython",
    "version": 3
   },
   "file_extension": ".py",
   "mimetype": "text/x-python",
   "name": "python",
   "nbconvert_exporter": "python",
   "pygments_lexer": "ipython3",
   "version": "3.6.5"
  }
 },
 "nbformat": 4,
 "nbformat_minor": 2
}
