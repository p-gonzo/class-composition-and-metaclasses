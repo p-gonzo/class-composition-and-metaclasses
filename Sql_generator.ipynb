{
 "cells": [
  {
   "cell_type": "code",
   "execution_count": 8,
   "metadata": {},
   "outputs": [],
   "source": [
    "class SqlExpression:\n",
    "    def __init__(self, operator, *operands):\n",
    "        self.operator = operator\n",
    "        self.operands = operands\n",
    "\n",
    "    @classmethod\n",
    "    def Equals(cls, lhs, rhs):\n",
    "        return cls('=', lhs, rhs)\n",
    "\n",
    "    def to_sql(self):\n",
    "        \"\"\"\n",
    "        Uses the operator along with operands to\n",
    "        render a valid SQL string that will compute\n",
    "        this expression.\n",
    "        \"\"\"\n",
    "        # this won't work for everything, but for the first one\n",
    "        return ' '.join(map(str,\n",
    "            (self.operands[0].to_sql(), self.operator, self.operands[1])))\n",
    "\n",
    "class SqlVariable:\n",
    "    def __init__(self, name):\n",
    "        self.name = name\n",
    "    \n",
    "    def __eq__(self, other):\n",
    "        return SqlExpression.Equals(self, other)\n",
    "    \n",
    "    def to_sql(self):\n",
    "        return self.name\n",
    "\n",
    "X = SqlVariable('x')\n",
    "\n",
    "def test_sql_equality_expression():\n",
    "    #x is an instance of a class\n",
    "    expr = (X == 3).to_sql()\n",
    "    assert expr == 'x = 3'\n",
    "\n",
    "def test_sql_gt():\n",
    "    expr = (X > 15).to_sql()\n",
    "    assert expr == 'x > 15'\n",
    "\n",
    "def test_sql_multiplication():\n",
    "    expr = ((X * 2) > 12).to_sql()\n",
    "    assert expr == '(x * 2) > 12'\n",
    "\n",
    "def test_sql_json_property_access():\n",
    "    expr = (X.country == 'Argentina').to_sql()\n",
    "    assert expr == \"x->'country' = 'Argentina'\"\n",
    "    \n",
    "def test_combines_with_other_vars():\n",
    "    col1 = SqlVariable('col1')\n",
    "    col2 = SqlVariable('col2')\n",
    "    expr = ((X + col1) > col2).to_sql()\n",
    "    assert expr == '(x + col1) > col2'\n",
    "\"\"\"\n",
    "SELECT * FROM my_table\n",
    "WHERE (x + col1) > col2\n",
    "\"\"\"\n",
    "    "
   ]
  },
  {
   "cell_type": "code",
   "execution_count": 9,
   "metadata": {},
   "outputs": [
    {
     "data": {
      "text/plain": [
       "'x = 3'"
      ]
     },
     "execution_count": 9,
     "metadata": {},
     "output_type": "execute_result"
    }
   ],
   "source": [
    "(X == 3).to_sql()"
   ]
  },
  {
   "cell_type": "code",
   "execution_count": null,
   "metadata": {},
   "outputs": [],
   "source": []
  },
  {
   "cell_type": "code",
   "execution_count": null,
   "metadata": {},
   "outputs": [],
   "source": []
  }
 ],
 "metadata": {
  "kernelspec": {
   "display_name": "class-composition-and-metaclasses",
   "language": "python",
   "name": "class-composition-and-metaclasses"
  },
  "language_info": {
   "codemirror_mode": {
    "name": "ipython",
    "version": 3
   },
   "file_extension": ".py",
   "mimetype": "text/x-python",
   "name": "python",
   "nbconvert_exporter": "python",
   "pygments_lexer": "ipython3",
   "version": "3.6.5"
  }
 },
 "nbformat": 4,
 "nbformat_minor": 2
}
