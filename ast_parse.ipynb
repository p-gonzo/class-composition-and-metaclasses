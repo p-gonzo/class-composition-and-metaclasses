{
 "cells": [
  {
   "cell_type": "code",
   "execution_count": 1,
   "metadata": {},
   "outputs": [],
   "source": [
    "import ast"
   ]
  },
  {
   "cell_type": "code",
   "execution_count": 2,
   "metadata": {},
   "outputs": [
    {
     "name": "stdout",
     "output_type": "stream",
     "text": [
      "<_ast.Expr object at 0x107ce97f0>\n"
     ]
    }
   ],
   "source": [
    "for node in ast.iter_child_nodes(ast.parse('5*2+3')):\n",
    "    print(node)"
   ]
  },
  {
   "cell_type": "code",
   "execution_count": 11,
   "metadata": {},
   "outputs": [],
   "source": [
    "a= ast.parse('5*2+3', mode='eval')"
   ]
  },
  {
   "cell_type": "code",
   "execution_count": 21,
   "metadata": {},
   "outputs": [
    {
     "name": "stdout",
     "output_type": "stream",
     "text": [
      "<_ast.Expression object at 0x107ea37b8>\n",
      "<_ast.BinOp object at 0x108233a58>\n",
      "<_ast.BinOp object at 0x1082339b0>\n",
      "<_ast.Add object at 0x105bd44a8>\n",
      "3\n",
      "5\n",
      "<_ast.Mult object at 0x105bd46d8>\n",
      "2\n"
     ]
    }
   ],
   "source": [
    "for node in ast.walk(a):\n",
    "    if type(node) == ast.Num:\n",
    "        print(node.n)\n",
    "    else:\n",
    "        print(node)"
   ]
  },
  {
   "cell_type": "code",
   "execution_count": 5,
   "metadata": {},
   "outputs": [
    {
     "name": "stdout",
     "output_type": "stream",
     "text": [
      "14\n"
     ]
    }
   ],
   "source": [
    "source = '6 + 8'\n",
    "node = ast.parse(source, mode='eval')\n",
    "print(eval(compile(node, '<string>', mode='eval')))"
   ]
  },
  {
   "cell_type": "code",
   "execution_count": null,
   "metadata": {},
   "outputs": [],
   "source": [
    "ast."
   ]
  }
 ],
 "metadata": {
  "kernelspec": {
   "display_name": "class-composition-and-metaclasses",
   "language": "python",
   "name": "class-composition-and-metaclasses"
  },
  "language_info": {
   "codemirror_mode": {
    "name": "ipython",
    "version": 3
   },
   "file_extension": ".py",
   "mimetype": "text/x-python",
   "name": "python",
   "nbconvert_exporter": "python",
   "pygments_lexer": "ipython3",
   "version": "3.6.5"
  }
 },
 "nbformat": 4,
 "nbformat_minor": 2
}
