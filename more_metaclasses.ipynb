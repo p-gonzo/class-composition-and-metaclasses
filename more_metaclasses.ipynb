{
 "cells": [
  {
   "cell_type": "code",
   "execution_count": 29,
   "metadata": {},
   "outputs": [],
   "source": [
    "class MyMeta(type):\n",
    "    def __new__(meta, name, bases, dct):\n",
    "        snake_dict = {}\n",
    "        for k, v in dct.items():\n",
    "            if k != k.lower():\n",
    "                print('python uses snake case you fool:', k)\n",
    "            else:\n",
    "                snake_dict[k] = v\n",
    "        print('Alocating Memory...')\n",
    "        return super(MyMeta, meta).__new__(meta, name, bases, snake_dict)\n",
    "    def __init__(cls, name, bases, dct):\n",
    "        print('Initializing class...')\n",
    "        super(MyMeta, cls).__init__(name, bases, dct)"
   ]
  },
  {
   "cell_type": "code",
   "execution_count": 30,
   "metadata": {},
   "outputs": [
    {
     "name": "stdout",
     "output_type": "stream",
     "text": [
      "python uses snake case you fool: willNotEnter\n",
      "Alocating Memory...\n",
      "Initializing class...\n"
     ]
    }
   ],
   "source": [
    "class MyKlass(object, metaclass=MyMeta):    \n",
    "    def foo(self, param):\n",
    "        pass\n",
    "    \n",
    "    will_enter = 2\n",
    "    willNotEnter = 3\n"
   ]
  },
  {
   "cell_type": "code",
   "execution_count": 31,
   "metadata": {},
   "outputs": [],
   "source": [
    "a = MyKlass()"
   ]
  },
  {
   "cell_type": "code",
   "execution_count": 32,
   "metadata": {},
   "outputs": [],
   "source": [
    "attr_and_methods = list(filter(lambda x: \"__\" not in x, dir(a)))"
   ]
  },
  {
   "cell_type": "code",
   "execution_count": 33,
   "metadata": {},
   "outputs": [
    {
     "data": {
      "text/plain": [
       "['foo', 'will_enter']"
      ]
     },
     "execution_count": 33,
     "metadata": {},
     "output_type": "execute_result"
    }
   ],
   "source": [
    "attr_and_methods"
   ]
  },
  {
   "cell_type": "code",
   "execution_count": null,
   "metadata": {},
   "outputs": [],
   "source": []
  }
 ],
 "metadata": {
  "kernelspec": {
   "display_name": "class-composition-and-metaclasses",
   "language": "python",
   "name": "class-composition-and-metaclasses"
  },
  "language_info": {
   "codemirror_mode": {
    "name": "ipython",
    "version": 3
   },
   "file_extension": ".py",
   "mimetype": "text/x-python",
   "name": "python",
   "nbconvert_exporter": "python",
   "pygments_lexer": "ipython3",
   "version": "3.6.5"
  }
 },
 "nbformat": 4,
 "nbformat_minor": 2
}
