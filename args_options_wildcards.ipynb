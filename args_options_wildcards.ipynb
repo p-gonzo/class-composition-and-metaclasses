{
 "cells": [
  {
   "cell_type": "code",
   "execution_count": 31,
   "metadata": {},
   "outputs": [],
   "source": [
    "from functools import reduce\n",
    "\n",
    "def args_demo(first, second, third, *args):\n",
    "    print('The first three variables are:')\n",
    "    print(first, second, third)\n",
    "    print(f'args contains the following: {args}')\n",
    "    print(f'args is of type: {type(args)}')\n",
    "    print('We can map over the args:')\n",
    "    print(list(map(lambda x: x**2, args)))\n",
    "    print('We can reduce the args:')\n",
    "    print(reduce((lambda x, y: x + y), args))"
   ]
  },
  {
   "cell_type": "code",
   "execution_count": 32,
   "metadata": {},
   "outputs": [
    {
     "name": "stdout",
     "output_type": "stream",
     "text": [
      "The first three variables are:\n",
      "1 2 3\n",
      "args contains the following: (4, 5, 6, 7, 8, 9)\n",
      "args is of type: <class 'tuple'>\n",
      "We can map over the args:\n",
      "[16, 25, 36, 49, 64, 81]\n",
      "We can reduce the args:\n",
      "39\n"
     ]
    }
   ],
   "source": [
    "args_demo(1,2,3,4,5,6,7,8,9)"
   ]
  },
  {
   "cell_type": "code",
   "execution_count": 47,
   "metadata": {},
   "outputs": [],
   "source": [
    "def options_demo(first, second, third, **options):\n",
    "    print('The first three variables are:')\n",
    "    print(first, second, third)\n",
    "    print(f'options is of type: {type(options)}')\n",
    "    print('options contains the following:')\n",
    "    print(options)\n",
    "    print('we can access key-value pairs in options:')\n",
    "    for key,value in options.items():\n",
    "        print(f'{key}: {value}')"
   ]
  },
  {
   "cell_type": "code",
   "execution_count": 49,
   "metadata": {},
   "outputs": [
    {
     "name": "stdout",
     "output_type": "stream",
     "text": [
      "The first three variables are:\n",
      "1 2 3\n",
      "options is of type: <class 'dict'>\n",
      "options contains the following:\n",
      "{'the_thing': 'this is a thing I wrote', 'second_option': 'another option'}\n",
      "we can access key-value pairs in options:\n",
      "the_thing: this is a thing I wrote\n",
      "second_option: another option\n"
     ]
    }
   ],
   "source": [
    "options_demo(1,2,3,the_thing=\"this is a thing I wrote\", second_option=\"another option\")"
   ]
  },
  {
   "cell_type": "code",
   "execution_count": null,
   "metadata": {},
   "outputs": [],
   "source": []
  },
  {
   "cell_type": "code",
   "execution_count": null,
   "metadata": {},
   "outputs": [],
   "source": []
  }
 ],
 "metadata": {
  "kernelspec": {
   "display_name": "class-composition-and-metaclasses",
   "language": "python",
   "name": "class-composition-and-metaclasses"
  },
  "language_info": {
   "codemirror_mode": {
    "name": "ipython",
    "version": 3
   },
   "file_extension": ".py",
   "mimetype": "text/x-python",
   "name": "python",
   "nbconvert_exporter": "python",
   "pygments_lexer": "ipython3",
   "version": "3.6.5"
  }
 },
 "nbformat": 4,
 "nbformat_minor": 2
}
